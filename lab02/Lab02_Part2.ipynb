{
 "cells": [
  {
   "cell_type": "markdown",
   "metadata": {},
   "source": [
    "# <center> Lab 02 Part2: Classification, Logistic Regression<br> <small>Réda DEHAK<br> 22 Mai 2020</small> </center>\n",
    "\n",
    "The goal of this lab is :\n",
    "\n",
    "- Test the logistic regression on classification problems."
   ]
  },
  {
   "cell_type": "markdown",
   "metadata": {},
   "source": [
    "## Part 2: Logistic Regression \n",
    "### Import Data\n",
    "\n",
    "We will use the Wine dataset from UCI. These data are the results of a chemical analysis of wines grown in the same region in Italy but derived from three different cultivars. The analysis determined the quantities of thirteen constituents found in each of the three types of wines.\n",
    "\n",
    "# Loading and Plotting Data\n",
    " \n",
    "First, we will use only two features from the data set: alcohol and ash (We can plot the solution in 2D space). The labels are supplied as an array of data with values from 1 to 3, but at first, we want a simple binary regression problem with a yes or no answer.  \n",
    "\n",
    "We filter the data set, reducing it to only include wines with labels 1 or 2.  "
   ]
  },
  {
   "cell_type": "code",
   "execution_count": 1,
   "metadata": {},
   "outputs": [],
   "source": [
    "%matplotlib inline\n",
    "import pickle\n",
    "import matplotlib.pyplot as plt\n",
    "import numpy as np"
   ]
  },
  {
   "cell_type": "code",
   "execution_count": 2,
   "metadata": {},
   "outputs": [],
   "source": [
    "import pandas as pd\n",
    "from sklearn.preprocessing import label_binarize\n",
    "\n",
    "data = pd.read_csv('data3.txt')\n",
    "\n",
    "reduced = data[data['class'] <= 2]\n",
    "X = reduced[['alcohol', 'ash']].to_numpy()\n",
    "y = label_binarize(reduced['class'].to_numpy(), classes=[1, 2])[:,0]"
   ]
  },
  {
   "cell_type": "code",
   "execution_count": 3,
   "metadata": {},
   "outputs": [
    {
     "name": "stdout",
     "output_type": "stream",
     "text": [
      "     class  alcohol  malic_acid   ash  alcalinity  magnesium  total_phenols   \n",
      "0        1    14.23        1.71  2.43        15.6        127           2.80  \\\n",
      "1        1    13.20        1.78  2.14        11.2        100           2.65   \n",
      "2        1    13.16        2.36  2.67        18.6        101           2.80   \n",
      "3        1    14.37        1.95  2.50        16.8        113           3.85   \n",
      "4        1    13.24        2.59  2.87        21.0        118           2.80   \n",
      "..     ...      ...         ...   ...         ...        ...            ...   \n",
      "173      3    13.71        5.65  2.45        20.5         95           1.68   \n",
      "174      3    13.40        3.91  2.48        23.0        102           1.80   \n",
      "175      3    13.27        4.28  2.26        20.0        120           1.59   \n",
      "176      3    13.17        2.59  2.37        20.0        120           1.65   \n",
      "177      3    14.13        4.10  2.74        24.5         96           2.05   \n",
      "\n",
      "     flavanoids  nonflavanoid_phenols  proanthocyanins  color   hue    od   \n",
      "0          3.06                  0.28             2.29   5.64  1.04  3.92  \\\n",
      "1          2.76                  0.26             1.28   4.38  1.05  3.40   \n",
      "2          3.24                  0.30             2.81   5.68  1.03  3.17   \n",
      "3          3.49                  0.24             2.18   7.80  0.86  3.45   \n",
      "4          2.69                  0.39             1.82   4.32  1.04  2.93   \n",
      "..          ...                   ...              ...    ...   ...   ...   \n",
      "173        0.61                  0.52             1.06   7.70  0.64  1.74   \n",
      "174        0.75                  0.43             1.41   7.30  0.70  1.56   \n",
      "175        0.69                  0.43             1.35  10.20  0.59  1.56   \n",
      "176        0.68                  0.53             1.46   9.30  0.60  1.62   \n",
      "177        0.76                  0.56             1.35   9.20  0.61  1.60   \n",
      "\n",
      "     proline  \n",
      "0       1065  \n",
      "1       1050  \n",
      "2       1185  \n",
      "3       1480  \n",
      "4        735  \n",
      "..       ...  \n",
      "173      740  \n",
      "174      750  \n",
      "175      835  \n",
      "176      840  \n",
      "177      560  \n",
      "\n",
      "[178 rows x 14 columns]\n"
     ]
    }
   ],
   "source": [
    "print(data)"
   ]
  },
  {
   "cell_type": "code",
   "execution_count": 8,
   "metadata": {},
   "outputs": [
    {
     "name": "stdout",
     "output_type": "stream",
     "text": [
      "train: 97 test: 33\n"
     ]
    }
   ],
   "source": [
    "# split data into train and validation set\n",
    "from sklearn.model_selection import train_test_split\n",
    "\n",
    "#Fix random_state to have the same split for each run \n",
    "Xtrain, Xtest, ytrain, ytest = train_test_split(X, y, test_size=0.25, random_state=25)\n",
    "print('train:', len(Xtrain), 'test:', len(Xtest))"
   ]
  },
  {
   "cell_type": "code",
   "execution_count": 9,
   "metadata": {},
   "outputs": [
    {
     "data": {
      "image/png": "[encoded data removed]",
      "text/plain": [
       "<Figure size 640x480 with 1 Axes>"
      ]
     },
     "metadata": {},
     "output_type": "display_data"
    }
   ],
   "source": [
    "import matplotlib.pyplot as plt\n",
    "%matplotlib inline\n",
    "\n",
    "MARKERS = ['+', 'x', '.']\n",
    "COLORS = ['red', 'green', 'blue']\n",
    "\n",
    "def plot_points(xy, labels):\n",
    "    \n",
    "    for i, label in enumerate(set(labels)):\n",
    "        points = np.array([xy[j,:] for j in range(len(xy)) if labels[j] == label])\n",
    "        marker = MARKERS[i % len(MARKERS)]\n",
    "        color = COLORS[i % len(COLORS)]\n",
    "        plt.scatter(points[:,0], points[:,1], marker=marker, color=color)\n",
    "\n",
    "plot_points(Xtrain, ytrain)"
   ]
  },
  {
   "cell_type": "markdown",
   "metadata": {},
   "source": [
    "We can see that we can plot line that could divide the two colored points with a small amount of error.\n",
    "\n",
    "# Logistic Regression\n",
    "\n",
    "To implement logistic regression, we need to define the cost function $J(\\theta)$, and compute the partial derivatives of $J(\\theta)$. As we have seen previously:\n",
    "\n",
    "$$\n",
    "J(\\theta) =-\\frac{1}{N}\\sum_{i=1}^{N}y^{i}\\log(f_\\theta(x^{i}))+(1-y^{i})\\log(1-f_\\theta(x^{i}))\n",
    "$$\n",
    "\n",
    "where $f_\\theta(x)$ is the logistic function\n",
    "\n",
    "$$\n",
    "f_\\theta(x) = \\frac{1}{1 + e^{-\\theta^Tx}}\n",
    "$$\n",
    "\n",
    "- Compute the partiel derivatives of $J(\\theta)$ and write the two functions:\n",
    "    - cost(theta, X, y) which compute the value of $J(\\theta)$\n",
    "    - gradient(theta, X, y) which compute the value of the gradient of $J(\\theta)$"
   ]
  },
  {
   "cell_type": "code",
   "execution_count": 10,
   "metadata": {},
   "outputs": [],
   "source": [
    "def sigmoid(theta, X):\n",
    "    return 1 / (1 + np.exp(-X @ theta)) # because theta is in column and X is lines, we need to X.T \n",
    "\n",
    "def cost(theta, X, y):\n",
    "    \"\"\"s = 0\n",
    "    N = len(X)\n",
    "    \n",
    "    for i in range(N):\n",
    "        s += y[i] * np.log(sigmoid(theta, X[i])) + (1 - y[i]) * np.log(1 - sigmoid(theta, X[i]))\n",
    "    \n",
    "    return (-1 / N) * s\"\"\"\n",
    "    theta = theta[:,None]\n",
    "    y = y[:, None]\n",
    "    \n",
    "    hyp = sigmoid(theta, X)\n",
    "    pos = np.multiply(y, np.log(hyp))\n",
    "    neg = np.multiply((1 - y), np.log(1 - hyp))\n",
    "    \n",
    "    return - np.sum(pos + neg) / len(X)\n",
    "\n",
    "def gradient(theta, X, y):\n",
    "    #return (1 / len(X)) * (sigmoid(theta, X) - y) @ X\n",
    "    theta = theta[:,None]\n",
    "    y = y[:, None]\n",
    "    \n",
    "    error = sigmoid(theta, X) - y\n",
    "    return X.T.dot(error) / len(X)"
   ]
  },
  {
   "cell_type": "markdown",
   "metadata": {},
   "source": [
    "- Using the function scipy.optimize.fmin_tnc which performs a gradient descent algorithm, write a function Train(x, y) which compute $\\theta$ that minimize $J(\\theta)$"
   ]
  },
  {
   "cell_type": "code",
   "execution_count": 11,
   "metadata": {},
   "outputs": [],
   "source": [
    "from scipy.optimize import fmin_tnc  \n",
    "\n",
    "def train(X, y):\n",
    "    X = np.insert(X, 0, np.ones(len(X)), axis=1)\n",
    "    theta = np.zeros(X.shape[1])\n",
    "    result = fmin_tnc(func=cost, x0=theta, disp=5, args=(X, y), fprime=gradient)\n",
    "    print(\"fmin_tnc result:\", result)\n",
    "    \n",
    "    return result[0]"
   ]
  },
  {
   "cell_type": "markdown",
   "metadata": {},
   "source": [
    "- compute the value of the best $\\theta$"
   ]
  },
  {
   "cell_type": "code",
   "execution_count": 12,
   "metadata": {},
   "outputs": [
    {
     "name": "stdout",
     "output_type": "stream",
     "text": [
      "fmin_tnc result: (array([82.288366  , -5.68562995, -3.54128086]), 101, 3)\n",
      "w =  [82.288366   -5.68562995 -3.54128086]\n"
     ]
    },
    {
     "name": "stderr",
     "output_type": "stream",
     "text": [
      "  NIT   NF   F                       GTG\n",
      "    0    1  6.931471805599453E-01   8.50256403E-03\n",
      "    1    3  6.930340493311802E-01   1.38496520E-03\n",
      "tnc: fscale = 26.8708\n",
      "    2    5  6.929209791539227E-01   8.48932029E-03\n",
      "tnc: stepmx = 1000\n",
      "    3    7  4.959854836977977E-01   3.84915143E-03\n",
      "    4    9  4.765293281886655E-01   1.12362996E+00\n",
      "tnc: fscale = 0.943384\n",
      "    5   11  4.603418041192889E-01   1.17749370E-03\n",
      "tnc: fscale = 29.1421\n",
      "    6   13  4.600094036163753E-01   2.18996423E-02\n",
      "    7   15  4.128172116422815E-01   1.03556551E-02\n",
      "    8   17  4.104286432271828E-01   1.45067499E-03\n",
      "    9   19  4.088067629757098E-01   1.32441035E-01\n",
      "   10   22  1.622086434728532E-01   4.95460184E-03\n",
      "   11   24  1.616009106744268E-01   1.72327491E-04\n",
      "   12   29  1.442495012114013E-01   1.50335763E-03\n",
      "   13   31  1.441117535246924E-01   1.09235712E-04\n",
      "   14   33  1.438067477835259E-01   4.47358384E-05\n",
      "   15   35  1.437283601650406E-01   1.24370855E-03\n",
      "   16   37  1.409555201498354E-01   6.66597102E-05\n",
      "   17   39  1.406561542631015E-01   2.86596703E-03\n",
      "   18   41  1.392622277734546E-01   2.14619387E-04\n",
      "   19   43  1.392541487078993E-01   3.03052654E-05\n",
      "   20   45  1.391909617830306E-01   1.38653271E-05\n",
      "   21   47  1.391889322817847E-01   7.99662001E-06\n",
      "   22   49  1.373558324557721E-01   8.41081573E-04\n",
      "   23   51  1.372813961081113E-01   3.42972006E-07\n",
      "tnc: fscale = 1707.54\n",
      "   24   53  1.372809493958592E-01   4.97288021E-06\n",
      "   25   55  1.371917947683676E-01   5.24964612E-08\n",
      "   26   57  1.371852324034927E-01   5.75372804E-07\n",
      "   27   61  1.364040881233669E-01   6.89014201E-04\n",
      "tnc: fscale = 38.0966\n",
      "   28   63  1.363514100054751E-01   4.83446796E-07\n",
      "tnc: fscale = 1438.22\n",
      "   29   65  1.363178241109951E-01   3.06714157E-04\n",
      "tnc: fscale = 57.0996\n",
      "   30   67  1.362944414824699E-01   2.31822786E-07\n",
      "tnc: fscale = 2076.93\n",
      "   31   69  1.362799122602143E-01   1.38848366E-04\n",
      "tnc: fscale = 84.8652\n",
      "   32   71  1.362693462286386E-01   1.21989258E-07\n",
      "tnc: fscale = 2863.12\n",
      "   33   73  1.362623449757515E-01   6.94692417E-05\n",
      "tnc: fscale = 119.979\n",
      "   34   75  1.362570649858890E-01   6.93244514E-08\n",
      "tnc: fscale = 3798.02\n",
      "   35   77  1.362533394618215E-01   3.81085711E-05\n",
      "tnc: fscale = 161.99\n",
      "   36   79  1.362504455525958E-01   4.19445052E-08\n",
      "tnc: fscale = 4882.73\n",
      "   37   81  1.362482962259335E-01   2.25965427E-05\n",
      "tnc: fscale = 210.368\n",
      "   38   83  1.362465813883270E-01   2.68637309E-08\n",
      "tnc: fscale = 6101.22\n",
      "   39   85  1.362452505939212E-01   1.43796598E-05\n",
      "tnc: fscale = 263.709\n",
      "   40   87  1.362441598717090E-01   1.82129067E-08\n",
      "tnc: fscale = 7409.87\n",
      "   41   89  1.362432785658742E-01   9.80236934E-06\n",
      "tnc: fscale = 319.4\n",
      "   42   91  1.362425353281753E-01   1.31058636E-08\n",
      "tnc: fscale = 8735.09\n",
      "   43   93  1.362419113040743E-01   7.15523485E-06\n",
      "tnc: fscale = 373.842\n",
      "   44   95  1.362413689467648E-01   1.00292283E-08\n",
      "tnc: fscale = 9985.42\n",
      "   45   97  1.362408969395286E-01   5.57916358E-06\n",
      "tnc: fscale = 423.365\n",
      "   46   99  1.362404741537016E-01   8.14921684E-09\n",
      "tnc: fscale = 11077.5\n",
      "   46  100  1.362404741537016E-01   8.14921684E-09\n",
      "tnc: Maximum number of function evaluations reached\n"
     ]
    }
   ],
   "source": [
    "W = train(Xtrain, ytrain)\n",
    "print(\"w = \", W)"
   ]
  },
  {
   "cell_type": "markdown",
   "metadata": {},
   "source": [
    "- Plot the boundary and checks that it is linear?"
   ]
  },
  {
   "cell_type": "code",
   "execution_count": 13,
   "metadata": {},
   "outputs": [
    {
     "data": {
      "image/png": "[encoded data removed]",
      "text/plain": [
       "<Figure size 640x480 with 1 Axes>"
      ]
     },
     "metadata": {},
     "output_type": "display_data"
    }
   ],
   "source": [
    "from matplotlib import cm\n",
    "from matplotlib.colors import LinearSegmentedColormap\n",
    "\n",
    "def predict(theta, X):\n",
    "    X = np.insert(X, 0, np.ones(len(X)), axis=1)\n",
    "    return (sigmoid(theta, X) >= 0.5).astype(int)\n",
    "    \n",
    "def plot_boundary(X, pred):\n",
    "    \n",
    "    x_min, x_max = X[:,0].min() - .1, X[:,0].max() + .1\n",
    "    y_min, y_max = X[:,1].min() - .1, X[:,1].max() + .1\n",
    "    \n",
    "    xs, ys = np.meshgrid(\n",
    "        np.linspace(x_min, x_max, 200),\n",
    "        np.linspace(y_min, y_max, 200)\n",
    "    )\n",
    "\n",
    "    xys = np.column_stack([xs.ravel(), ys.ravel()])\n",
    "    zs = pred(xys).reshape(xs.shape)\n",
    "    plt.contour(xs, ys, zs, colors='black')\n",
    "  \n",
    "plot_boundary(Xtrain, lambda x: predict(W, x))\n",
    "plot_points(Xtrain, ytrain)"
   ]
  },
  {
   "cell_type": "markdown",
   "metadata": {},
   "source": [
    "- Using sklearn.metrics, compute the confusion matrix, the accuracy, the precision and the recall of this classifier"
   ]
  },
  {
   "cell_type": "code",
   "execution_count": 27,
   "metadata": {},
   "outputs": [
    {
     "name": "stdout",
     "output_type": "stream",
     "text": [
      "[[18  0]\n",
      " [ 0 15]]\n",
      "accuracy: 1.0\n",
      "precision: 1.0\n",
      "recall: 1.0\n"
     ]
    }
   ],
   "source": [
    "from sklearn.metrics import confusion_matrix, accuracy_score, precision_score, recall_score\n",
    "\n",
    "predictions = predict(W, Xtest)\n",
    "print(confusion_matrix(predictions, ytest))\n",
    "print('accuracy:',  accuracy_score(  y_pred=predictions, y_true=ytest  ))\n",
    "print('precision:', precision_score( y_pred=predictions, y_true=ytest, average=\"macro\"  ))\n",
    "print('recall:',    recall_score(    y_pred=predictions, y_true=ytest, average=\"macro\"  ))"
   ]
  },
  {
   "cell_type": "markdown",
   "metadata": {},
   "source": [
    "- How can we obtain a quadratic boundary? check it and plot the boundary?"
   ]
  },
  {
   "cell_type": "code",
   "execution_count": 28,
   "metadata": {},
   "outputs": [
    {
     "name": "stdout",
     "output_type": "stream",
     "text": [
      "[31.78645531  0.26501443  1.84042339 -1.70920983 -6.992593   10.54540311\n",
      " 31.78645531]\n"
     ]
    },
    {
     "name": "stderr",
     "output_type": "stream",
     "text": [
      "/var/folders/y1/hqbknbks74q1n06g4p7jklqm0000gn/T/ipykernel_17437/3210574701.py:5: FutureWarning: arrays to stack must be passed as a \"sequence\" type such as list or tuple. Support for non-sequence iterables such as generators is deprecated as of NumPy 1.16 and will raise an error in the future.\n",
      "  return np.vstack((el[0] ** 2, el[1] ** 2, el[0] * el[1], el[0], el[1], 1) for el in x)\n",
      "  NIT   NF   F                       GTG\n",
      "    0    1  6.931471805599458E-01   1.72356260E+01\n",
      "    1    7  2.360124575030349E-01   4.25347892E+00\n",
      "    2   14  2.230182317863319E-01   3.86025443E-02\n",
      "    3   17  2.229997595309362E-01   1.33398043E-03\n",
      "tnc: fscale = 27.3795\n",
      "    4   21  2.224105695844820E-01   2.56320341E-02\n",
      "    5   24  2.223999811088762E-01   1.64253308E-06\n",
      "tnc: fscale = 780.266\n",
      "    6   28  2.223933218423029E-01   1.56290323E-05\n",
      "    7   32  2.223743562877532E-01   7.51226840E-04\n",
      "tnc: fscale = 36.485\n",
      "    8   36  2.223478559460856E-01   8.36911789E-03\n",
      "/var/folders/y1/hqbknbks74q1n06g4p7jklqm0000gn/T/ipykernel_17437/1375926727.py:9: RuntimeWarning: divide by zero encountered in log\n",
      "  s += y[i] * np.log(sigmoid(theta, X[i])) + (1 - y[i]) * np.log(1 - sigmoid(theta, X[i]))\n",
      "/var/folders/y1/hqbknbks74q1n06g4p7jklqm0000gn/T/ipykernel_17437/1375926727.py:9: RuntimeWarning: invalid value encountered in double_scalars\n",
      "  s += y[i] * np.log(sigmoid(theta, X[i])) + (1 - y[i]) * np.log(1 - sigmoid(theta, X[i]))\n",
      "    9   39  2.223452862976908E-01   8.11205755E-05\n",
      "   10   43  2.223394998980122E-01   7.22461148E-03\n",
      "tnc: stepmx = 1000\n",
      "   11   47  2.208819449290125E-01   3.70396590E-03\n",
      "   12   51  2.208599051918386E-01   5.58732950E-04\n",
      "   13   54  2.208575591486769E-01   3.12519704E-04\n",
      "   14   58  2.208542702666499E-01   6.95519120E-06\n",
      "   15   62  2.205862639120584E-01   9.82819710E-06\n",
      "   16   65  2.205832689499702E-01   1.30601619E-06\n",
      "tnc: fscale = 875.036\n",
      "   17   69  2.205692106570132E-01   2.70999823E-05\n",
      "   18   73  2.205574441538704E-01   5.36293282E-04\n",
      "tnc: fscale = 43.1816\n",
      "   19   77  2.205429062252066E-01   7.72802913E-03\n",
      "   20   80  2.205402756443045E-01   1.95128336E-04\n",
      "   21   84  2.205334104620953E-01   1.09858678E-03\n",
      "   22   88  2.181849619217123E-01   3.92261273E-01\n",
      "tnc: fscale = 1.59666\n",
      "   23   92  2.177099090838628E-01   7.09571852E-03\n",
      "   24   95  2.177032552361847E-01   3.19509578E-05\n",
      "tnc: fscale = 176.912\n",
      "   25   99  2.174459912315737E-01   2.50317179E-03\n",
      "   25  100  2.174459912315737E-01   2.50317179E-03\n",
      "tnc: Maximum number of function evaluations reached\n"
     ]
    },
    {
     "data": {
      "image/png": "[encoded data removed]",
      "text/plain": [
       "<Figure size 640x480 with 1 Axes>"
      ]
     },
     "metadata": {},
     "output_type": "display_data"
    }
   ],
   "source": [
    "from sklearn.preprocessing import PolynomialFeatures\n",
    "\n",
    "def transform(x):\n",
    "    #return PolynomialFeatures(2).fit_transform(x)\n",
    "    return np.vstack((el[0] ** 2, el[1] ** 2, el[0] * el[1], el[0], el[1], 1) for el in x)\n",
    "\n",
    "W = train(transform(Xtrain), ytrain)\n",
    "print(W)\n",
    "plot_points(Xtrain, ytrain)\n",
    "plot_boundary(Xtrain, lambda x: predict(W[-3::], x))"
   ]
  },
  {
   "cell_type": "markdown",
   "metadata": {},
   "source": [
    "- Compute the confusion matrix, the accuracy, the precision and the recall of this classifier"
   ]
  },
  {
   "cell_type": "code",
   "execution_count": 29,
   "metadata": {},
   "outputs": [
    {
     "name": "stdout",
     "output_type": "stream",
     "text": [
      "[[ 0  0]\n",
      " [18 15]]\n",
      "accuracy: 0.45454545454545453\n",
      "precision: 0.45454545454545453\n",
      "recall: 1.0\n"
     ]
    }
   ],
   "source": [
    "predictions = predict(W[-3::], Xtest)\n",
    "\n",
    "print(confusion_matrix(predictions, ytest))\n",
    "print('accuracy:',  accuracy_score(  y_pred=predictions, y_true=ytest  ))\n",
    "print('precision:', precision_score( y_pred=predictions, y_true=ytest  ))\n",
    "print('recall:',    recall_score(    y_pred=predictions, y_true=ytest  ))"
   ]
  },
  {
   "cell_type": "markdown",
   "metadata": {},
   "source": [
    "# Multinomial Logistic Regression\n",
    "\n",
    "The next step is something more interesting: we use a similar set of two features from the data set (this time alcohol and flavanoids), but with all three labels instead of two."
   ]
  },
  {
   "cell_type": "code",
   "execution_count": 30,
   "metadata": {},
   "outputs": [
    {
     "data": {
      "image/png": "[encoded data removed]",
      "text/plain": [
       "<Figure size 640x480 with 1 Axes>"
      ]
     },
     "metadata": {},
     "output_type": "display_data"
    }
   ],
   "source": [
    "X = data[['alcohol', 'flavanoids']].to_numpy()\n",
    "y = data[['class']].to_numpy()\n",
    "Xtrain, Xtest, ytrain, ytest = train_test_split(X, y, test_size=0.25)\n",
    "ytrain = label_binarize(ytrain, classes=[1, 2, 3])\n",
    "plot_points(Xtrain, ytrain.argmax(axis=1))"
   ]
  },
  {
   "cell_type": "markdown",
   "metadata": {},
   "source": [
    "The plotted data points again suggest some obvious linear boundaries between the three classes.\n",
    "\n",
    "We can solve this problem as three one-vs-all problems, and re-use all the previous code. In this part, we will try another solution inspired from softmax function known as softmax regression (See C.Bishop, \"Pattern Recognition and Machine Learning\", 2006, Springer).\n",
    "\n",
    "$$\n",
    "SoftMax_\\Theta(x, k) = \\frac{e^{\\theta_k^Tx}}{\\sum\\limits_{c=1}^K e^{\\theta_c^Tx}}\n",
    "$$\n",
    "\n",
    "The cost function is defined as follows:\n",
    "\n",
    "$$\n",
    "J(\\Theta) =-\\frac{1}{N}\\sum_{i=1}^{N}\\sum_{k=1}^3\\left[y_k^{i}\\log\\left(SoftMax_\\Theta\\left(x^{i}, k\\right)\\right)\\right]\n",
    "$$\n",
    "\n",
    "- Propose a solution using the SoftMax function and test it with linear and quadratic separator? "
   ]
  },
  {
   "cell_type": "code",
   "execution_count": 33,
   "metadata": {},
   "outputs": [
    {
     "name": "stderr",
     "output_type": "stream",
     "text": [
      "  NIT   NF   F                       GTG\n",
      "    0    1  1.098612288668108E+00   1.07006000E+00\n",
      "tnc: stepmx = 1000\n",
      "    1    6  6.543365721187916E-01   4.08048776E-01\n",
      "    2   11  3.831465126883216E-01   6.96748288E-01\n",
      "    3   18  3.429463840194136E-01   1.15542921E-02\n",
      "    4   22  3.409554854258046E-01   3.21655855E-04\n",
      "tnc: fscale = 55.7576\n",
      "    5   27  2.620303868642918E-01   3.57455022E-04\n",
      "    6   30  2.554925995820142E-01   4.57675559E-03\n",
      "    7   38  2.281406374019324E-01   2.60332543E-03\n",
      "    8   43  2.212141194918542E-01   4.19716575E-04\n",
      "    9   48  2.205647235358870E-01   1.13902415E-04\n",
      "   10   52  2.203059813795050E-01   1.56025021E-04\n",
      "   11   57  2.199846320648343E-01   3.28155623E-05\n",
      "   12   64  2.184159086214197E-01   2.53055476E-04\n",
      "   13   67  2.183831797637227E-01   2.22956977E-05\n",
      "   14   72  2.181275876716667E-01   1.79735592E-05\n",
      "   15   77  2.170171851915698E-01   1.38999134E-04\n",
      "   16   80  2.166840076380172E-01   1.05024589E-03\n",
      "   17   85  2.150446155513318E-01   6.97105460E-04\n",
      "   18   89  2.148958042444576E-01   8.97902594E-07\n",
      "   19   94  2.148435047917744E-01   4.77549864E-07\n",
      "tnc: fscale = 1447.07\n"
     ]
    },
    {
     "name": "stdout",
     "output_type": "stream",
     "text": [
      "[[-2.12304172e+01  3.93898907e+01 -2.61482862e+01]\n",
      " [ 1.03412457e+00 -3.19545590e+00  2.66773033e+00]\n",
      " [ 2.02192876e+00 -3.85140265e-02 -7.48848657e+00]]\n"
     ]
    },
    {
     "name": "stderr",
     "output_type": "stream",
     "text": [
      "   20   99  2.148249264305115E-01   3.33337813E-07\n",
      "   20  100  2.148249264305115E-01   3.33337813E-07\n",
      "tnc: Maximum number of function evaluations reached\n"
     ]
    }
   ],
   "source": [
    "def softmax(w, x):\n",
    "    w = w.reshape((3, 3))\n",
    "    res = np.exp(w.T @ x)\n",
    "    return res / np.sum(res)\n",
    "    \n",
    "def cost(w, x, y):\n",
    "    N = len(x)\n",
    "    s = 0\n",
    "    for i in range(N):\n",
    "        for k in range(3):\n",
    "            s += y[i][k] * np.log(softmax(w, x[i])[k])\n",
    "    return (- 1 / N) * s\n",
    "\n",
    "def grad(w, x, y):\n",
    "    p = np.array([softmax(w, x[i]) for i in range(len(x))])\n",
    "    return - 1 / len(x) * (x.T @ (y - p))\n",
    "\n",
    "def train(X, y):\n",
    "    X = np.insert(X, 0, np.ones(len(X)), axis=1)\n",
    "    theta = np.zeros((X.shape[1], y.shape[1]))\n",
    "    result = fmin_tnc(func=cost, x0=theta, args=(X, y), fprime=grad)\n",
    "    \n",
    "    # fmin_tnc transforms theta into a vector so we need to reshape it into a matrix\n",
    "    #theta = theta.reshape(X.shape[1], y.shape[1])\n",
    "    \n",
    "    return result[0].reshape((X.shape[1], -1))\n",
    "\n",
    "#Linear Separator\n",
    "W1 = train(Xtrain, ytrain)\n",
    "print(W1)\n",
    "\n",
    "#Quadratic Separator\n",
    "#W2 = train(...)\n",
    "#print(W2)"
   ]
  },
  {
   "cell_type": "code",
   "execution_count": 77,
   "metadata": {},
   "outputs": [
    {
     "ename": "ValueError",
     "evalue": "cannot reshape array of size 120000 into shape (200,200)",
     "output_type": "error",
     "traceback": [
      "\u001b[0;31m---------------------------------------------------------------------------\u001b[0m",
      "\u001b[0;31mValueError\u001b[0m                                Traceback (most recent call last)",
      "Cell \u001b[0;32mIn[77], line 8\u001b[0m\n\u001b[1;32m      5\u001b[0m     \u001b[38;5;28;01mreturn\u001b[39;00m softmax(w, X) \u001b[38;5;241m>\u001b[39m\u001b[38;5;241m=\u001b[39m \u001b[38;5;241m0.5\u001b[39m\n\u001b[1;32m      7\u001b[0m plot_points(Xtrain, ytrain\u001b[38;5;241m.\u001b[39margmax(axis\u001b[38;5;241m=\u001b[39m\u001b[38;5;241m1\u001b[39m))\n\u001b[0;32m----> 8\u001b[0m \u001b[43mplot_boundary\u001b[49m\u001b[43m(\u001b[49m\u001b[43mXtrain\u001b[49m\u001b[43m,\u001b[49m\u001b[43m \u001b[49m\u001b[38;5;28;43;01mlambda\u001b[39;49;00m\u001b[43m \u001b[49m\u001b[43mx\u001b[49m\u001b[43m:\u001b[49m\u001b[43m \u001b[49m\u001b[43mpredict_multi\u001b[49m\u001b[43m(\u001b[49m\u001b[43mx\u001b[49m\u001b[43m,\u001b[49m\u001b[43m \u001b[49m\u001b[43mW1\u001b[49m\u001b[43m)\u001b[49m\u001b[43m)\u001b[49m\n",
      "Cell \u001b[0;32mIn[9], line 19\u001b[0m, in \u001b[0;36mplot_boundary\u001b[0;34m(X, pred)\u001b[0m\n\u001b[1;32m     13\u001b[0m xs, ys \u001b[38;5;241m=\u001b[39m np\u001b[38;5;241m.\u001b[39mmeshgrid(\n\u001b[1;32m     14\u001b[0m     np\u001b[38;5;241m.\u001b[39mlinspace(x_min, x_max, \u001b[38;5;241m200\u001b[39m),\n\u001b[1;32m     15\u001b[0m     np\u001b[38;5;241m.\u001b[39mlinspace(y_min, y_max, \u001b[38;5;241m200\u001b[39m)\n\u001b[1;32m     16\u001b[0m )\n\u001b[1;32m     18\u001b[0m xys \u001b[38;5;241m=\u001b[39m np\u001b[38;5;241m.\u001b[39mcolumn_stack([xs\u001b[38;5;241m.\u001b[39mravel(), ys\u001b[38;5;241m.\u001b[39mravel()])\n\u001b[0;32m---> 19\u001b[0m zs \u001b[38;5;241m=\u001b[39m \u001b[43mpred\u001b[49m\u001b[43m(\u001b[49m\u001b[43mxys\u001b[49m\u001b[43m)\u001b[49m\u001b[38;5;241;43m.\u001b[39;49m\u001b[43mreshape\u001b[49m\u001b[43m(\u001b[49m\u001b[43mxs\u001b[49m\u001b[38;5;241;43m.\u001b[39;49m\u001b[43mshape\u001b[49m\u001b[43m)\u001b[49m\n\u001b[1;32m     20\u001b[0m plt\u001b[38;5;241m.\u001b[39mcontour(xs, ys, zs, colors\u001b[38;5;241m=\u001b[39m\u001b[38;5;124m'\u001b[39m\u001b[38;5;124mblack\u001b[39m\u001b[38;5;124m'\u001b[39m)\n",
      "\u001b[0;31mValueError\u001b[0m: cannot reshape array of size 120000 into shape (200,200)"
     ]
    },
    {
     "data": {
      "image/png": "[encoded data removed]",
      "text/plain": [
       "<Figure size 640x480 with 1 Axes>"
      ]
     },
     "metadata": {},
     "output_type": "display_data"
    }
   ],
   "source": [
    "#Linear Separator\n",
    "\n",
    "def predict_multi(x, w):\n",
    "    X = np.insert(x, 0, np.ones(len(x)), axis=1)\n",
    "    return softmax(w, X) >= 0.5\n",
    "\n",
    "plot_points(Xtrain, ytrain.argmax(axis=1))\n",
    "plot_boundary(Xtrain, lambda x: predict_multi(x, W1))"
   ]
  },
  {
   "cell_type": "code",
   "execution_count": null,
   "metadata": {},
   "outputs": [],
   "source": [
    "# Quadratic Separator\n",
    "...\n",
    "\n",
    "plot_points(Xtrain, ytrain.argmax(axis=1))\n",
    "plot_boundary(Xtrain, lambda x: ...)"
   ]
  },
  {
   "cell_type": "markdown",
   "metadata": {},
   "source": [
    "- Compute the confusion matrix, the accuracy, the precision and the recall of these classifiers"
   ]
  },
  {
   "cell_type": "code",
   "execution_count": null,
   "metadata": {},
   "outputs": [],
   "source": []
  },
  {
   "cell_type": "markdown",
   "metadata": {},
   "source": [
    "- Conclude?"
   ]
  },
  {
   "cell_type": "code",
   "execution_count": null,
   "metadata": {},
   "outputs": [],
   "source": []
  }
 ],
 "metadata": {
  "kernelspec": {
   "display_name": "Python 3 (ipykernel)",
   "language": "python",
   "name": "python3"
  },
  "language_info": {
   "codemirror_mode": {
    "name": "ipython",
    "version": 3
   },
   "file_extension": ".py",
   "mimetype": "text/x-python",
   "name": "python",
   "nbconvert_exporter": "python",
   "pygments_lexer": "ipython3",
   "version": "3.9.16"
  }
 },
 "nbformat": 4,
 "nbformat_minor": 2
}
